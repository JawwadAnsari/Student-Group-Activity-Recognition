{
 "cells": [
  {
   "cell_type": "markdown",
   "metadata": {},
   "source": [
    "#  User Data Analysis"
   ]
  },
  {
   "cell_type": "code",
   "execution_count": null,
   "metadata": {
    "collapsed": true
   },
   "outputs": [],
   "source": []
  },
  {
   "cell_type": "code",
   "execution_count": null,
   "metadata": {
    "collapsed": true
   },
   "outputs": [],
   "source": []
  },
  {
   "cell_type": "markdown",
   "metadata": {},
   "source": [
    "### Plot for May 20 - 25"
   ]
  },
  {
   "cell_type": "markdown",
   "metadata": {},
   "source": [
    "### Plotting May 30 Data"
   ]
  },
  {
   "cell_type": "markdown",
   "metadata": {},
   "source": [
    "### Plotting May 26 Data"
   ]
  },
  {
   "cell_type": "code",
   "execution_count": 2,
   "metadata": {
    "collapsed": false
   },
   "outputs": [
    {
     "data": {
      "image/png": "[encoded data removed]",
      "text/plain": [
       "<matplotlib.figure.Figure at 0x338beb8>"
      ]
     },
     "metadata": {},
     "output_type": "display_data"
    },
    {
     "name": "stdout",
     "output_type": "stream",
     "text": [
      "0.0310763888889\n"
     ]
    }
   ],
   "source": [
    "% matplotlib inline\n",
    "import matplotlib.pyplot as plt\n",
    "'''\n",
    "for May 26\n",
    "'''\n",
    "string = 'May 26'\n",
    "f = open('project26.txt')\n",
    "contents = f.read()\n",
    "f2 = open('project30.txt')\n",
    "contents2 = f2.read()\n",
    "timedict = {'00': 0, '15' : 1, '30' : 2, '45' :3}\n",
    "\n",
    "p=0\n",
    "timelist = []\n",
    "for k in range(len(contents) - 6):\n",
    "    if(string == contents[k:k+6]):\n",
    "        z = (contents[k+7:k+6+9])\n",
    "        exp = timedict[z[6:8]] + (4 * int(z[3:5])) + (4 * 60 * int(z[0:2]))\n",
    "        timelist.append(exp)\n",
    "        p += 1\n",
    "        \n",
    "        \n",
    "#results = 158\n",
    "d = 0\n",
    "for k in range(len(contents) - 6):\n",
    "    if(string == contents2[k:k+6]):\n",
    "        z = (contents2[k+7:k+6+9])\n",
    "        exp = timedict[z[6:8]] + (4 * int(z[3:5])) + (4 * 60 * int(z[0:2]))\n",
    "        timelist.append(exp)\n",
    "        d += 1     \n",
    "        \n",
    "totallist = [0 for k in range(5760)]\n",
    "\n",
    "for h in range(len(timelist)):\n",
    "    totallist[timelist[h]] = 1\n",
    "  \n",
    "          \n",
    "plt.bar([b for b in range(len(totallist))],[totallist[v] for v in range(len(totallist))])\n",
    "plt.xlabel('Data Points through the whole day')\n",
    "plt.ylabel('Probability of Available Data')\n",
    "plt.show()\n",
    "\n",
    "percentage = (p+d)/(5760*1.0)\n",
    "\n",
    "#percentage = 3.107%\n",
    "\n",
    "print(percentage)\n",
    "\n",
    "f.close()\n",
    "f2.close()"
   ]
  },
  {
   "cell_type": "markdown",
   "metadata": {},
   "source": [
    "### Plotting for Day 30"
   ]
  },
  {
   "cell_type": "code",
   "execution_count": 2,
   "metadata": {
    "collapsed": false
   },
   "outputs": [
    {
     "data": {
      "image/png": "[encoded data removed]",
      "text/plain": [
       "<matplotlib.figure.Figure at 0xaf9e5f8>"
      ]
     },
     "metadata": {},
     "output_type": "display_data"
    },
    {
     "name": "stdout",
     "output_type": "stream",
     "text": [
      "0.477951388889\n"
     ]
    }
   ],
   "source": [
    "% matplotlib inline\n",
    "import matplotlib.pyplot as plt\n",
    "'''\n",
    "for May 26\n",
    "'''\n",
    "string = 'May 30'\n",
    "#f = open('project26.txt')\n",
    "#contents = f.read()\n",
    "f2 = open('project30.txt')\n",
    "contents = f2.read()\n",
    "timedict = {'00': 0, '15' : 1, '30' : 2, '45' :3}\n",
    "\n",
    "p=0\n",
    "timelist = []\n",
    "for k in range(len(contents) - 6):\n",
    "    if(string == contents[k:k+6]):\n",
    "        z = (contents[k+7:k+6+9])\n",
    "        exp = timedict[z[6:8]] + (4 * int(z[3:5])) + (4 * 60 * int(z[0:2]))\n",
    "        timelist.append(exp)\n",
    "        p += 1\n",
    "        \n",
    "        \n",
    "\n",
    "totallist = [0 for k in range(5760)]\n",
    "\n",
    "for h in range(len(timelist)):\n",
    "    totallist[timelist[h]] = 1\n",
    "  \n",
    "          \n",
    "plt.bar([b for b in range(len(totallist))],[totallist[v] for v in range(len(totallist))])\n",
    "plt.xlabel('Data Points through the whole day')\n",
    "plt.ylabel('Probability of Available Data')\n",
    "plt.show()\n",
    "\n",
    "percentage = (p)/(5760*1.0)\n",
    "\n",
    "\n",
    "\n",
    "print(percentage)\n",
    "\n",
    "#f.close()\n",
    "f2.close()"
   ]
  },
  {
   "cell_type": "markdown",
   "metadata": {
    "collapsed": true
   },
   "source": [
    "### Review Required"
   ]
  },
  {
   "cell_type": "markdown",
   "metadata": {
    "collapsed": true
   },
   "source": [
    "### For Days 20 - 25"
   ]
  },
  {
   "cell_type": "code",
   "execution_count": 4,
   "metadata": {
    "collapsed": false
   },
   "outputs": [
    {
     "data": {
      "image/png": "[encoded data removed]",
      "text/plain": [
       "<matplotlib.figure.Figure at 0x2e4a208>"
      ]
     },
     "metadata": {},
     "output_type": "display_data"
    },
    {
     "name": "stdout",
     "output_type": "stream",
     "text": [
      "0.0458333333333\n"
     ]
    },
    {
     "data": {
      "image/png": "[encoded data removed]",
      "text/plain": [
       "<matplotlib.figure.Figure at 0x86de0f0>"
      ]
     },
     "metadata": {},
     "output_type": "display_data"
    },
    {
     "name": "stdout",
     "output_type": "stream",
     "text": [
      "0.0\n"
     ]
    },
    {
     "data": {
      "image/png": "[encoded data removed]",
      "text/plain": [
       "<matplotlib.figure.Figure at 0x114666a0>"
      ]
     },
     "metadata": {},
     "output_type": "display_data"
    },
    {
     "name": "stdout",
     "output_type": "stream",
     "text": [
      "0.0\n"
     ]
    },
    {
     "data": {
      "image/png": "[encoded data removed]",
      "text/plain": [
       "<matplotlib.figure.Figure at 0xe2fc0f0>"
      ]
     },
     "metadata": {},
     "output_type": "display_data"
    },
    {
     "name": "stdout",
     "output_type": "stream",
     "text": [
      "0.096875\n"
     ]
    },
    {
     "data": {
      "image/png": "[encoded data removed]",
      "text/plain": [
       "<matplotlib.figure.Figure at 0x10cbb908>"
      ]
     },
     "metadata": {},
     "output_type": "display_data"
    },
    {
     "name": "stdout",
     "output_type": "stream",
     "text": [
      "0.0142361111111\n"
     ]
    },
    {
     "data": {
      "image/png": "[encoded data removed]",
      "text/plain": [
       "<matplotlib.figure.Figure at 0x97ec198>"
      ]
     },
     "metadata": {},
     "output_type": "display_data"
    },
    {
     "name": "stdout",
     "output_type": "stream",
     "text": [
      "0.0236111111111\n"
     ]
    }
   ],
   "source": [
    "import matplotlib.pyplot as plt\n",
    "\n",
    "\n",
    "'''\n",
    "for May 20 - 25\n",
    "'''\n",
    "date = ['May 25','May 24','May 23','May 22','May 21','May 20']\n",
    "\n",
    "for num in date:\n",
    "\n",
    "    string = num\n",
    "\n",
    "    f = open('project26.txt')\n",
    "\n",
    "\n",
    "    contents = f.read()\n",
    "\n",
    "\n",
    "    timedict = {'00': 0, '15' : 1, '30' : 2, '45' :3}\n",
    "\n",
    "\n",
    "\n",
    "    p=0\n",
    "\n",
    "\n",
    "    timelist = []\n",
    "    for k in range(len(contents) - 6):\n",
    "        if(string == contents[k:k+6]):\n",
    "            z = (contents[k+7:k+6+9])\n",
    "            exp = timedict[z[6:8]] + (4 * int(z[3:5])) + (4 * 60 * int(z[0:2]))\n",
    "            timelist.append(exp)\n",
    "            p += 1\n",
    "\n",
    "\n",
    "    #results = 158\n",
    "\n",
    "\n",
    "\n",
    "    totallist = [0 for k in range(5760)]\n",
    "\n",
    "    for h in range(len(timelist)):\n",
    "        totallist[timelist[h]] = 1\n",
    "\n",
    "\n",
    "\n",
    "\n",
    "    plt.bar([b for b in range(len(totallist))],[totallist[v] for v in range(len(totallist))])\n",
    "\n",
    "    plt.xlabel('Data Points through the whole day of' + num)\n",
    "    plt.ylabel('Probability of Available Data')\n",
    "    plt.show()\n",
    "\n",
    "    percentage = (p)/(5760*1.0)\n",
    "    print(percentage)\n",
    "\n",
    "    f.close() "
   ]
  },
  {
   "cell_type": "markdown",
   "metadata": {},
   "source": [
    "--------------------------------------------------------------------------"
   ]
  },
  {
   "cell_type": "markdown",
   "metadata": {},
   "source": [
    "### Review Required Here"
   ]
  },
  {
   "cell_type": "code",
   "execution_count": null,
   "metadata": {
    "collapsed": true
   },
   "outputs": [],
   "source": [
    "% matplotlib inline\n",
    "import matplotlib.pyplot as plt\n",
    "import pandas as pd\n",
    "import numpy as np\n",
    "\n",
    "'''\n",
    "for May 30\n",
    "'''\n",
    "string = 'May 30'\n",
    "f = open('project30.txt')\n",
    "contents = f.read()\n",
    "timedict = {'00': 0, '15' : 1, '30' : 2, '45' :3}\n",
    "\n",
    "p=0\n",
    "timelist = []\n",
    "for k in range(len(contents) - 6):\n",
    "    if(string == contents[k:k+6]):\n",
    "        z = (contents[k+7:k+6+9])\n",
    "        exp = timedict[z[6:8]] + (4 * int(z[3:5])) + (4 * 60 * int(z[0:2]))\n",
    "        timelist.append(exp)\n",
    "        p += 1\n",
    "        \n",
    "\n",
    "        \n",
    "# p = total data available\n",
    "        #exp is used to convet the time format into 4 slot format\n",
    "        \n",
    "      \n",
    "    \n",
    "totallist = [0 for k in range(5760)]\n",
    "for h in range(len(timelist)):\n",
    "    totallist[timelist[h]] = 1\n",
    "    \n",
    "      \n",
    "    \n",
    "#plt.bar([b for b in range(len(totallist))],[totallist[v] for v in range(len(totallist))])\n",
    "\n",
    "#plt.xlabel('Data Points through the whole day')\n",
    "#plt.ylabel('Probability of Available Data')\n",
    "#plt.show()\n",
    "\n",
    "percentage = (p)/(5760*1.0)\n",
    "print(percentage)\n",
    "m = [totallist[v] for v in range(len(totallist))]\n",
    "mean = sum(m)/(1.0*len(m))\n",
    "data = [totallist[v] for v in range(len(totallist))]\n",
    "\n",
    "for i in range(len(data)):\n",
    "    if(data[i] == 0):\n",
    "        data[i] = np.NaN\n",
    "    \n",
    "\n",
    "        \n",
    "        \n",
    "se = pd.Series(data)\n",
    "h = se.fillna(mean)   # fill the nan values with the mean value\n",
    "x = h.tolist()\n",
    "\n",
    "\n",
    "plt.bar([b for b in range(len(totallist))],[x[v] for v in range(len(x))])\n",
    "plt.title('Data for May 30')\n",
    "plt.xlabel('Data Points through the whole day')\n",
    "plt.ylabel('Probability of Available Data')\n",
    "plt.show()\n",
    "\n",
    "\n",
    "f.close() "
   ]
  },
  {
   "cell_type": "code",
   "execution_count": null,
   "metadata": {
    "collapsed": true
   },
   "outputs": [],
   "source": []
  },
  {
   "cell_type": "code",
   "execution_count": null,
   "metadata": {
    "collapsed": true
   },
   "outputs": [],
   "source": []
  },
  {
   "cell_type": "markdown",
   "metadata": {
    "collapsed": true
   },
   "source": [
    "### Observations\n",
    "\n"
   ]
  },
  {
   "cell_type": "markdown",
   "metadata": {},
   "source": [
    "We have plotted the data along different time stamps during the whole day. So this is a timeseries data. \n",
    "From the plot that we get, it is evident that some data are missing at different time points. And hence the percentage of available data is very much low.\n",
    "\n",
    "So we need to overcome this missing values and try to estimate the values at the points where the data is missing. "
   ]
  },
  {
   "cell_type": "markdown",
   "metadata": {},
   "source": [
    "---------------------------------------------------------------------------------------"
   ]
  },
  {
   "cell_type": "markdown",
   "metadata": {},
   "source": [
    "###  Missing Data Points"
   ]
  },
  {
   "cell_type": "markdown",
   "metadata": {},
   "source": [
    "There are various ways to estimate the missing data values.\n",
    "\n",
    "* Replacing the missing data values with the **mean** of the distribution.\n",
    "\n",
    "This can be done since each data point has equal probability of being available or missing. So it follows a uniform distribution. So we can approximate the missing data values as being the mean of the distribution.\n",
    "\n",
    "* Replacing the missing data values with the **(max value - min value)** of the distribution. \n",
    "\n",
    "**Review Required**"
   ]
  },
  {
   "cell_type": "markdown",
   "metadata": {},
   "source": [
    "### EM Algorithm"
   ]
  },
  {
   "cell_type": "markdown",
   "metadata": {},
   "source": [
    "Expectation maximization is an effective technique that is often used in data analysis to manage missing data.\n",
    "\n",
    "Expectation maximization overcomes some of the limitations of other techniques, such as mean substitution or regression substitution.\n",
    "\n",
    "It is an interative procedure in which it uses other variables to impute a value (Expectation), then checks whether that is the value most likely (Maximization). If not, it re-imputes a more likely value. This goes on until it reaches the most likely value.\n",
    "\n",
    "EM imputations are better than mean imputations because they preserve the relationship with other variables.\n"
   ]
  },
  {
   "cell_type": "markdown",
   "metadata": {},
   "source": [
    "---------------------------------------------------------------------------------------"
   ]
  },
  {
   "cell_type": "markdown",
   "metadata": {},
   "source": [
    "### Plotting Acceleration Values"
   ]
  },
  {
   "cell_type": "code",
   "execution_count": null,
   "metadata": {
    "collapsed": true
   },
   "outputs": [],
   "source": []
  },
  {
   "cell_type": "code",
   "execution_count": 12,
   "metadata": {
    "collapsed": false
   },
   "outputs": [
    {
     "data": {
      "image/png": "[encoded data removed]",
      "text/plain": [
       "<matplotlib.figure.Figure at 0xb8c7ac8>"
      ]
     },
     "metadata": {},
     "output_type": "display_data"
    }
   ],
   "source": [
    "#Reading Accelerometer values\n",
    "% matplotlib inline\n",
    "\n",
    "\n",
    "from mpl_toolkits.mplot3d import Axes3D\n",
    "import matplotlib.pyplot as plt\n",
    "from matplotlib import cm\n",
    "from matplotlib.ticker import LinearLocator, FormatStrFormatter\n",
    "\n",
    "from statsmodels.nonparametric.smoothers_lowess import lowess\n",
    "from sklearn import preprocessing\n",
    "import numpy as np\n",
    "\n",
    "fil = open('project26.txt')\n",
    "\n",
    "lines = []\n",
    "lines.append(fil.readlines())\n",
    "timedict = {'00': 0, '15' : 1, '30' : 2, '45' :3}\n",
    "\n",
    "\n",
    "string = '23:Mon May'\n",
    "#lines[0][0]\n",
    "accel = []\n",
    "accely = []\n",
    "accelz = []\n",
    "timelist = []\n",
    "for i in range(len(lines[0])):\n",
    "    if(lines[0][i][0:2] == '2:'):\n",
    "\n",
    "\n",
    "        for k in range(len(lines[0][i]) - 10):\n",
    "            if(string == lines[0][i][k:k+10]):\n",
    "                z = (lines[0][i][k+14:k+10+12])\n",
    "                exp = timedict[z[6:8]] + (4 * int(z[3:5])) + (4 * 60 * int(z[0:2]))\n",
    "                timelist.append(exp)\n",
    "\n",
    "        j = 3\n",
    "        while(lines[0][i][j] != ','):\n",
    "            j += 1\n",
    "        accel.append(lines[0][i][2:j-1])\n",
    "\n",
    "\n",
    "        l =j + 2\n",
    "        while(lines[0][i][l] != ','):\n",
    "            l+=1\n",
    "        accely.append(lines[0][i][j+3:l])\n",
    "\n",
    "        v = l+3\n",
    "        while(lines[0][i][v] != ','):\n",
    "            v+=1\n",
    "        accelz.append(lines[0][i][l+3:v])\n",
    "\n",
    "\n",
    "\n",
    "\n",
    "acceleration_x = []\n",
    "\n",
    "for k in range(len(accel)):\n",
    "    acceleration_x.append(float(accel[k]))\n",
    "\n",
    "\n",
    "acceleration_y = []\n",
    "\n",
    "for k in range(len(accely)):\n",
    "    acceleration_y.append(float(accely[k]))\n",
    "\n",
    "acceleration_z = []\n",
    "\n",
    "for k in range(len(accely)):\n",
    "    acceleration_z.append(float(accelz[k]))\n",
    "\n",
    "\n",
    "# NORMALIZE\n",
    "x_axis = [timelist[b] for b in range(len(timelist))]\n",
    "y_axis = [acceleration_x[b] for b in range(len(acceleration_x))]\n",
    "y_axis2 = [acceleration_y[b] for b in range(len(acceleration_y))]\n",
    "y_axis3 = [acceleration_z[b] for b in range(len(acceleration_z))]\n",
    "\n",
    "\n",
    "\n",
    "\n",
    "def my_func(low,up,leng):\n",
    "    list = []\n",
    "    step = (up - low) / float(leng)\n",
    "    for i in range(leng):\n",
    "        list.append(low)\n",
    "        low = low + step\n",
    "    return list\n",
    "\n",
    "\n",
    "\n",
    "\n",
    "x_ax = [m for m in range(5760)]\n",
    "y_ax = [0 for m in range(5760)]\n",
    "y_ax2 = [0 for m in range(5760)]\n",
    "y_ax3 = [0 for m in range(5760)]\n",
    "\n",
    "\n",
    "for r in range(len(timelist)):\n",
    "    y_ax[timelist[r]] = acceleration_x[r]\n",
    "\n",
    "\n",
    "for r in range(len(timelist)):\n",
    "    y_ax2[timelist[r]] = acceleration_y[r]\n",
    "\n",
    "for r in range(len(timelist)):\n",
    "    y_ax3[timelist[r]] = acceleration_z[r]\n",
    "\n",
    "\n",
    "X_scale = preprocessing.scale(x_ax)\n",
    "Y_scale = preprocessing.scale(y_ax)\n",
    "\n",
    "Y_scale2 = preprocessing.scale(y_ax2)\n",
    "Y_scale3 = preprocessing.scale(y_ax3)\n",
    "\n",
    "#plt.plot([X_scale[b] for b in range(len(X_scale))],[Y_scale[b] for b in range(len(Y_scale))],'r')\n",
    "#plt.plot([X_scale[b] for b in range(len(X_scale))],[Y_scale[b] for b in range(len(Y_scale))],'b')\n",
    "#plt.axis([1.0,1.3,-3,3])\n",
    "\n",
    "\n",
    "#plt.plot([x[b] for b in range(len(x))],[px[b] for b in range(len(px))],'r' ,linewidth=3)\n",
    "#plt.xlabel('For x')\n",
    "#plt.show()\n",
    "\n",
    "\n",
    "\n",
    "\n",
    "#plt.plot([x[b] for b in range(len(x))],[py[b] for b in range(len(py))],'b' ,linewidth=3)\n",
    "#plt.xlabel('For y')\n",
    "#plt.show()\n",
    "\n",
    "\n",
    "def savitzky_golay(y, window_size, order, deriv=0, rate=1):\n",
    "    r\"\"\"Smooth (and optionally differentiate) data with a Savitzky-Golay filter.\n",
    "    The Savitzky-Golay filter removes high frequency noise from data.\n",
    "    It has the advantage of preserving the original shape and\n",
    "    features of the signal better than other types of filtering\n",
    "    approaches, such as moving averages techniques.\n",
    "    Parameters\n",
    "    ----------\n",
    "    y : array_like, shape (N,)\n",
    "        the values of the time history of the signal.\n",
    "    window_size : int\n",
    "        the length of the window. Must be an odd integer number.\n",
    "    order : int\n",
    "        the order of the polynomial used in the filtering.\n",
    "        Must be less then `window_size` - 1.\n",
    "    deriv: int\n",
    "        the order of the derivative to compute (default = 0 means only smoothing)\n",
    "    Returns\n",
    "    -------\n",
    "    ys : ndarray, shape (N)\n",
    "        the smoothed signal (or it's n-th derivative).\n",
    "    Notes\n",
    "    -----\n",
    "    The Savitzky-Golay is a type of low-pass filter, particularly\n",
    "    suited for smoothing noisy data. The main idea behind this\n",
    "    approach is to make for each point a least-square fit with a\n",
    "    polynomial of high order over a odd-sized window centered at\n",
    "    the point.\n",
    "    Examples\n",
    "    --------\n",
    "    t = np.linspace(-4, 4, 500)\n",
    "    y = np.exp( -t**2 ) + np.random.normal(0, 0.05, t.shape)\n",
    "    ysg = savitzky_golay(y, window_size=31, order=4)\n",
    "    import matplotlib.pyplot as plt\n",
    "    plt.plot(t, y, label='Noisy signal')\n",
    "    plt.plot(t, np.exp(-t**2), 'k', lw=1.5, label='Original signal')\n",
    "    plt.plot(t, ysg, 'r', label='Filtered signal')\n",
    "    plt.legend()\n",
    "    plt.show()\n",
    "    References\n",
    "    ----------\n",
    "    .. [1] A. Savitzky, M. J. E. Golay, Smoothing and Differentiation of\n",
    "       Data by Simplified Least Squares Procedures. Analytical\n",
    "       Chemistry, 1964, 36 (8), pp 1627-1639.\n",
    "    .. [2] Numerical Recipes 3rd Edition: The Art of Scientific Computing\n",
    "       W.H. Press, S.A. Teukolsky, W.T. Vetterling, B.P. Flannery\n",
    "       Cambridge University Press ISBN-13: 9780521880688\n",
    "    \"\"\"\n",
    "    import numpy as np\n",
    "    from math import factorial\n",
    "\n",
    "    try:\n",
    "        window_size = np.abs(np.int(window_size))\n",
    "        order = np.abs(np.int(order))\n",
    "    except ValueError, msg:\n",
    "        raise ValueError(\"window_size and order have to be of type int\")\n",
    "    if window_size % 2 != 1 or window_size < 1:\n",
    "        raise TypeError(\"window_size size must be a positive odd number\")\n",
    "    if window_size < order + 2:\n",
    "        raise TypeError(\"window_size is too small for the polynomials order\")\n",
    "    order_range = range(order+1)\n",
    "    half_window = (window_size -1) // 2\n",
    "    # precompute coefficients\n",
    "    b = np.mat([[k**i for i in order_range] for k in range(-half_window, half_window+1)])\n",
    "    m = np.linalg.pinv(b).A[deriv] * rate**deriv * factorial(deriv)\n",
    "    # pad the signal at the extremes with\n",
    "    # values taken from the signal itself\n",
    "    firstvals = y[0] - np.abs( y[1:half_window+1][::-1] - y[0] )\n",
    "    lastvals = y[-1] + np.abs(y[-half_window-1:-1][::-1] - y[-1])\n",
    "    y = np.concatenate((firstvals, y, lastvals))\n",
    "    return np.convolve( m[::-1], y, mode='valid')\n",
    "\n",
    "\n",
    "\n",
    "\n",
    "yhat = savitzky_golay(Y_scale2, 15, 3) # window size 51, polynomial order\n",
    "\n",
    "plt.plot(X_scale,yhat, color='red',linewidth = 5)\n",
    "\n",
    "\n",
    "#plt.plot(x_ax,y_ax,'o')\n",
    "#plt.plot(X_scale,Y_scale2,'-')\n",
    "#plt.xlabel('For x')\n",
    "plt.show()\n",
    "\n",
    "\n",
    "#plt.plot([X_scale[b] for b in range(len(x))],[py[b] for b in range(len(py))],'b' ,linewidth=3)\n",
    "#plt.xlabel('For y')\n",
    "#plt.show()\n",
    "\n",
    "#plt.plot([x[b] for b in range(len(x))],[pz[b] for b in range(len(pz))],'g' ,linewidth=3)\n",
    "#plt.xlabel('For z')\n",
    "#plt.show()\n",
    "\n",
    "#  3D PLOT\n"
   ]
  },
  {
   "cell_type": "markdown",
   "metadata": {
    "collapsed": true
   },
   "source": [
    "#### Reviews Required Here"
   ]
  },
  {
   "cell_type": "code",
   "execution_count": null,
   "metadata": {
    "collapsed": true
   },
   "outputs": [],
   "source": []
  },
  {
   "cell_type": "markdown",
   "metadata": {
    "collapsed": true
   },
   "source": [
    "### BSSID , wifi value\n",
    "\n",
    "Check for code required\n"
   ]
  },
  {
   "cell_type": "markdown",
   "metadata": {},
   "source": [
    "Given two user datas, we check if the two users are within the same wifi range. \n",
    "Each user at a particular time has upto maximum 6-7 BSSID slots available to him. \n",
    "So we check the BSSID values for each of the two users and calulate the **Jacker Index Coefficient**.\n",
    "\n",
    "\n",
    "**Jacker Index Coefficient** is given by the ratio \n",
    "\n",
    "\n",
    "###  I / U\n",
    "\n",
    "\n",
    "Where \n",
    "\n",
    "- I = Intersection of the BSSID values of two users\n",
    "- U = Union of the BSSID values of two users\n",
    "      \n",
    "\n",
    "\n",
    "\n"
   ]
  },
  {
   "cell_type": "markdown",
   "metadata": {},
   "source": [
    "--------------------------------------------------------------"
   ]
  },
  {
   "cell_type": "markdown",
   "metadata": {},
   "source": [
    "### Proximity of two Users "
   ]
  },
  {
   "cell_type": "markdown",
   "metadata": {},
   "source": [
    "We say that two users are in close proximity if they have a high Jaccard Index Coefficient.\n",
    "\n",
    "This is because higher the intersection of the BSSID values between two users, higher is the chances of the users being in close proximity.\n",
    "\n",
    "So based on this we can check whether users are in close proximity with each other."
   ]
  },
  {
   "cell_type": "markdown",
   "metadata": {},
   "source": [
    "----------------------------------------------------------------"
   ]
  },
  {
   "cell_type": "markdown",
   "metadata": {},
   "source": [
    "In this project we have total 59 users and we have data for two months.\n",
    "\n",
    "So we have files for a particular day and for two specific users from the 59 users.\n",
    "\n",
    "For example,\n",
    "'Wifi_Jaccard_u00_u01_03272013' is a file thay stores the Jaccard Index values and Pearson Coefficient Values for two specific users u00 and u01 throughout the day 27/03/2013.\n",
    "\n",
    "Likewise, we have data files for a particular day and for two specific users."
   ]
  },
  {
   "cell_type": "markdown",
   "metadata": {},
   "source": [
    "### Plotting Jaccard Index and Pearson Coefficient for two users during a particular day.\n",
    "\n",
    "\n"
   ]
  },
  {
   "cell_type": "markdown",
   "metadata": {},
   "source": []
  },
  {
   "cell_type": "code",
   "execution_count": null,
   "metadata": {
    "collapsed": true
   },
   "outputs": [],
   "source": [
    "import matplotlib.pyplot as plt\n",
    "import matplotlib.patches as mpatches\n",
    "from matplotlib.font_manager import FontProperties\n",
    "import numpy as np\n",
    "import os\n",
    "from glob import glob\n",
    "\n",
    "p = 'JCPearsonPlots2'\n",
    "os.makedirs(p)\n",
    "main_directory = 'JC'\n",
    "\n",
    "files_list = glob(os.path.join('JC1\\JC', '*.txt'))\n",
    "for a_file in sorted(files_list):\n",
    "    #print(a_file)\n",
    "    filename = a_file\n",
    "    fil = open(filename, 'r')\n",
    "    lines = []\n",
    "    lines.append(fil.readlines())\n",
    "    textlines = []\n",
    "    for i in range(len(lines[0])):\n",
    "        textlines.append( lines[0][i].split(\",\"))\n",
    "\n",
    "    time  = []\n",
    "    JC = []\n",
    "    Pearson_coefficient  = []\n",
    "    for j in range(len(textlines)):\n",
    "        time.append(textlines[j][0])\n",
    "        JC.append(textlines[j][1])\n",
    "        Pearson_coefficient.append(textlines[j][2])\n",
    "\n",
    "    for k in range(len(time)):\n",
    "        time[k] = int(time[k])\n",
    "    for k in range(len(JC)):\n",
    "        JC[k] = float(JC[k])\n",
    "    for k in range(len(Pearson_coefficient)):\n",
    "        Pearson_coefficient[k] = float(Pearson_coefficient[k])\n",
    "    # Plotting\n",
    "\n",
    "    plot1, = plt.plot(time,JC, 'o', linewidth = '4',color = 'red' ,label = 'JC')\n",
    "    plot2, = plt.plot(time,Pearson_coefficient,'o',color = 'green' ,label = 'PC' ,linewidth = '5')\n",
    "    #plt.xlim(0,1439,179)\n",
    "    plt.legend([plot1,plot2],[\"JaccardIndex\", \"PearsoncCoeff.\"], loc='upper left')\n",
    "    plt.xticks([0, 180,360,540,720,900,1080,1260,1440])\n",
    "    plt.xlabel('Time')\n",
    "    plt.ylabel('JaccardIndex  &  PearsonCoeff.')\n",
    "    plt.grid(animated = True)\n",
    "    # plt.show()\n",
    "    name = a_file\n",
    "    afile = a_file.replace('.txt','.png')\n",
    "    Afil = afile.replace('JC\\\\','')\n",
    "    A_fil = Afil.replace('JC1\\\\','')\n",
    "    fileplot = p + '\\ ' + A_fil\n",
    "    plt.savefig(fileplot, dpi = 150)\n",
    "    plt.close()\n"
   ]
  },
  {
   "cell_type": "markdown",
   "metadata": {},
   "source": [
    "-------------------------------------------------------------------------------------------"
   ]
  },
  {
   "cell_type": "markdown",
   "metadata": {},
   "source": [
    "### Some plots of Jaccard Index and Pearson Coefficient "
   ]
  },
  {
   "cell_type": "markdown",
   "metadata": {
    "collapsed": true
   },
   "source": [
    "![](JCPearsonPlots2\\ Wifi_Jaccard_u00_u01_03272013.png)"
   ]
  },
  {
   "cell_type": "markdown",
   "metadata": {
    "collapsed": true
   },
   "source": [
    "                         JaccardIndex and Pearson Coefficient for User 00 and User 01 on 27 March 2013"
   ]
  },
  {
   "cell_type": "markdown",
   "metadata": {},
   "source": [
    "--------------------------------------------------------------------------------"
   ]
  },
  {
   "cell_type": "markdown",
   "metadata": {
    "collapsed": true
   },
   "source": [
    "![](JCPearsonPlots2\\ Wifi_Jaccard_u00_u01_03292013.png)"
   ]
  },
  {
   "cell_type": "markdown",
   "metadata": {},
   "source": [
    "                         JaccardIndex and Pearson Coefficient for User 00 and User 01 on 29 March 2013"
   ]
  },
  {
   "cell_type": "markdown",
   "metadata": {},
   "source": [
    "-------------------------------------------------------------"
   ]
  },
  {
   "cell_type": "markdown",
   "metadata": {},
   "source": [
    "---------------------------------------------------------------------------------"
   ]
  },
  {
   "cell_type": "markdown",
   "metadata": {},
   "source": [
    "### Group forming "
   ]
  },
  {
   "cell_type": "markdown",
   "metadata": {},
   "source": [
    "Now we check for group formation during a particular day for about 10 - 15 mins.\n",
    "\n",
    "We select all such groups whose duration is about 10-15 mins during the particular day."
   ]
  },
  {
   "cell_type": "markdown",
   "metadata": {},
   "source": [
    "# Group Code Required"
   ]
  },
  {
   "cell_type": "code",
   "execution_count": null,
   "metadata": {
    "collapsed": true
   },
   "outputs": [],
   "source": []
  },
  {
   "cell_type": "code",
   "execution_count": null,
   "metadata": {
    "collapsed": true
   },
   "outputs": [],
   "source": []
  },
  {
   "cell_type": "code",
   "execution_count": null,
   "metadata": {
    "collapsed": true
   },
   "outputs": [],
   "source": []
  },
  {
   "cell_type": "code",
   "execution_count": null,
   "metadata": {
    "collapsed": true
   },
   "outputs": [],
   "source": []
  },
  {
   "cell_type": "code",
   "execution_count": null,
   "metadata": {
    "collapsed": true
   },
   "outputs": [],
   "source": []
  },
  {
   "cell_type": "markdown",
   "metadata": {
    "collapsed": true
   },
   "source": [
    "## User Data Processing"
   ]
  },
  {
   "cell_type": "code",
   "execution_count": null,
   "metadata": {
    "collapsed": true
   },
   "outputs": [],
   "source": []
  },
  {
   "cell_type": "code",
   "execution_count": null,
   "metadata": {
    "collapsed": true
   },
   "outputs": [],
   "source": [
    "\n",
    "\"\"\"\n",
    "This code is used to process files for about 57 users on the basis of their wifi data\n",
    "\"\"\"\n",
    "from datetime import datetime\n",
    "import csv\n",
    "import os\n",
    "\n",
    "### Importing the modules\n",
    "\n",
    "# Function for converting the time value in the csv files to Year-Month-Day Format\n",
    "def year(value):\n",
    "\n",
    "    yeartime = datetime.fromtimestamp(int(value)).strftime('%Y:%m:%d')\n",
    "    return yeartime\n",
    "\n",
    "# Function for converting the time value in the csv files to Hours-Minutes-Seconds format\n",
    "def timevalue(value):\n",
    "    time = datetime.fromtimestamp(int(value)).strftime('%H:%M:%S')\n",
    "    return time\n",
    "\n",
    "# --------------------------------------------------------------------------------------------------------------\n",
    "\n",
    "##--- Main part of the Program--------------------------\n",
    "\n",
    "# Creating a string of user ids '00 , 01, 02, 03, O4, 05 ................. 59 '\n",
    "na = [str(i) for i in range(60)]\n",
    "for i in range(len(na)):\n",
    "    if(len(str(na[i])) == 1):\n",
    "        na[i] = '0' + na[i]\n",
    "\n",
    "# CSV Files had no user_ids 06, 11, 21 ,26, 28, 29, 37, 38, 40, 48, 55\n",
    "NOFILES = ['06','11','21','26','28','29','37','38','40','48','55']\n",
    "\n",
    "for flname in range(len(na)):\n",
    "    if na[flname] not in NOFILES:   ## Handling exception if no files of the above unavailable user_ids were detected\n",
    "        filename = 'wifi\\wifi'+ '_u' + na[flname] + '.csv'\n",
    "        lines= []\n",
    "        with open(filename) as f:               ## Opening the CSV files\n",
    "            reader = csv.reader(f, delimiter=' ')\n",
    "            for row in reader:\n",
    "                lines.append(row)         ### Reading through lines from individual a csv file\n",
    "\n",
    "        ## line[] contains a list of the LINES of the CSV file\n",
    "        time =[]\n",
    "        Year = []\n",
    "        NElines = []   # NELines denotes the non-empty lines in the csv file\n",
    "        for i in range(1,len(lines)):\n",
    "            if(lines[i] != [] ):\n",
    "                NElines.append(lines[i])\n",
    "                Year.append(year(int(lines[i][0][0:10])))\n",
    "        ## Year list contains all the dates of that particular CSV file\n",
    "        ## UniqueYear contains distinct dates of that particular file, unlike Year which contains some repetitions in its dates\n",
    "        UniqueYear = list(set(Year))\n",
    "       \n",
    "        p = 'User' + str(na[flname])\n",
    "        os.makedirs(p)\n",
    "        # Make directory of name User00, User01, ........ User59\n",
    "\n",
    "\n",
    "        UniqueYear.sort()  # Sort UniqueYear numerically\n",
    "        Year.sort()    # Sort Year numerically\n",
    "\n",
    "        for i in range(len(UniqueYear)):  # Loop through the UniqueYear\n",
    "            #UniqueYear[i][5:7] = Month -> 04\n",
    "            #UniqueYear[i][8:11] = Day  -> 05                    EXAMPLE = 2013-04-05\n",
    "            #UniqueYear[i][0:4] = Year  -> 2013\n",
    "\n",
    "            name =  p +  '\\ ' + 'wifi_u'+ na[flname] + '_' + UniqueYear[i][5:7] +   UniqueYear[i][8:11] +  UniqueYear[i][0:4] +'.txt'\n",
    "            # name = p\\wifi_u(user_ids)_monthdayyear.txt\n",
    "\n",
    "            fil = open(name, 'a')   # Open textfile with name = directory_name\\wifi_u(user_ids)_monthdayyear.txt\n",
    "            fil = open(name,'w')   # Open the textfile for writing\n",
    "\n",
    "            timetext = []  # Extract the time section from the line\n",
    "            BSSID = []  # Extract the BSSID no. from the line\n",
    "            level = [] # Extract the level from the line\n",
    "\n",
    "            for j in range(len(Year)): # Loop through the whole Year\n",
    "                if(Year[j] == UniqueYear[i]): # If a match occurs then update the corresponding line's time, BSSID and level values\n",
    "\n",
    "                    # --------------EXPLANATION  -------------------------------------------------------------------------------------\n",
    "                    # NElines[j][0][0:10] - Extracting the time values from the csv file. Since each such number in the time column is of length 11, so we are slicing the first 11 characters.\n",
    "                    # NElines[j][0][0:10][0:2] - Hour Part    , NElines[j][0][0:10][3:5] - Minute Part\n",
    "                    # BSSID = NElines[j][0][11: 17+11] , Since Each BSSID values start after the first 11 characters(time value) and has a fixed length = 17 characters\n",
    "                    # level values start after 34 characters and have a length of 3 characters. So level =  NElines[j][0][34:38]\n",
    "\n",
    "                    timetext.append(str( (int(timevalue(NElines[j][0][0:10])[0:2]))*60 +  int(timevalue(NElines[j][0][0:10])[3:5])))\n",
    "                    BSSID.append(NElines[j][0][11: 17+11])\n",
    "                    level.append(NElines[j][0][34:38])\n",
    "\n",
    "\n",
    "            ptim = timetext  # Copying the time section to ptim\n",
    "            bs = BSSID   # Copying the BSSID nos to bs\n",
    "            lve = level  # Copying the level to lve\n",
    "\n",
    "        ## uniquetime contains distinct time(Hours-Minutes) of that particular file, unlike ptim which contains some repetitions in its time values\n",
    "            uniquetime = list(set(ptim))\n",
    "\n",
    "            for h  in range(len(uniquetime)):\n",
    "                uniquetime[h] = int(uniquetime[h])\n",
    "\n",
    "            uniquetime.sort()\n",
    "            ## Sort the uniquetime numerically\n",
    "\n",
    "            listoflines = []  # Lines to be written in the file\n",
    "            for d in range(len(uniquetime)):\n",
    "                t = uniquetime[d]     ## Loop through all the distinct time\n",
    "                xc = ''\n",
    "                for g in range(len(ptim)):\n",
    "\n",
    "                    if(str(t) == ptim[g]):  # Check for matching for time with the values in ptim\n",
    "                        if(bs[g] not in xc): # to check if the same BSSID value is not repeated\n",
    "                            xc+= (',' + bs[g]+ ',' + lve[g])  # then append the BSSID and the level value to the end of the line\n",
    "\n",
    "\n",
    "\n",
    "                listoflines.append('\\n'+str(t)+xc)\n",
    "\n",
    "\n",
    "            fil.writelines(listoflines)  # write the corresponding content in to the file\n",
    "            fil.close()  # close the text file\n",
    "\n",
    "\n",
    "        f.close()   # close the csv file\n"
   ]
  },
  {
   "cell_type": "code",
   "execution_count": null,
   "metadata": {
    "collapsed": true
   },
   "outputs": [],
   "source": []
  },
  {
   "cell_type": "code",
   "execution_count": null,
   "metadata": {
    "collapsed": true
   },
   "outputs": [],
   "source": []
  },
  {
   "cell_type": "markdown",
   "metadata": {
    "collapsed": true
   },
   "source": [
    "## Jaccard Index and  Pearson Coeff."
   ]
  },
  {
   "cell_type": "markdown",
   "metadata": {},
   "source": [
    "## User Data Regularity"
   ]
  },
  {
   "cell_type": "markdown",
   "metadata": {},
   "source": [
    "In this code we compare two days to see if the same group is always formed in the both the days at the same point of time in the day. \n",
    "If the groups formed are same in both the days at the same time, we say that the two days are regular.\n",
    "If there are more number of such groups we will assume that the two days are highly regular. \n",
    "\n",
    "### Coefficient of Regularity\n",
    "It is a number indicating the regularity of two days.\n",
    "Higher the number , higher the regularity."
   ]
  },
  {
   "cell_type": "code",
   "execution_count": 1,
   "metadata": {
    "collapsed": false
   },
   "outputs": [
    {
     "name": "stdout",
     "output_type": "stream",
     "text": [
      "For filenames ProximityData\\groups_03272013.txt and ProximityData\\groups_03282013.txt\n",
      "Number of same group occurences is 91\n",
      "\n",
      "\n",
      "For filenames ProximityData\\groups_03272013.txt and ProximityData\\groups_03292013.txt\n",
      "Number of same group occurences is 142\n",
      "\n",
      "\n",
      "For filenames ProximityData\\groups_03272013.txt and ProximityData\\groups_03302013.txt\n",
      "Number of same group occurences is 92\n",
      "\n",
      "\n",
      "For filenames ProximityData\\groups_03272013.txt and ProximityData\\groups_03312013.txt\n",
      "Number of same group occurences is 74\n",
      "\n",
      "\n",
      "For filenames ProximityData\\groups_03272013.txt and ProximityData\\groups_04012013.txt\n",
      "Number of same group occurences is 75\n",
      "\n",
      "\n",
      "For filenames ProximityData\\groups_03272013.txt and ProximityData\\groups_04022013.txt\n",
      "Number of same group occurences is 65\n",
      "\n",
      "\n",
      "For filenames ProximityData\\groups_03272013.txt and ProximityData\\groups_04032013.txt\n",
      "Number of same group occurences is 10\n",
      "\n",
      "\n",
      "For filenames ProximityData\\groups_03272013.txt and ProximityData\\groups_04042013.txt\n",
      "Number of same group occurences is 162\n",
      "\n",
      "\n",
      "For filenames ProximityData\\groups_03272013.txt and ProximityData\\groups_04052013.txt\n",
      "Number of same group occurences is 116\n",
      "\n",
      "\n",
      "For filenames ProximityData\\groups_03272013.txt and ProximityData\\groups_04062013.txt\n",
      "Number of same group occurences is 21\n",
      "\n",
      "\n",
      "For filenames ProximityData\\groups_03272013.txt and ProximityData\\groups_04072013.txt\n",
      "Number of same group occurences is 3\n",
      "\n",
      "\n",
      "For filenames ProximityData\\groups_03272013.txt and ProximityData\\groups_04082013.txt\n",
      "Number of same group occurences is 121\n",
      "\n",
      "\n",
      "For filenames ProximityData\\groups_03272013.txt and ProximityData\\groups_04092013.txt\n",
      "Number of same group occurences is 24\n",
      "\n",
      "\n",
      "For filenames ProximityData\\groups_03272013.txt and ProximityData\\groups_04102013.txt\n",
      "Number of same group occurences is 35\n",
      "\n",
      "\n",
      "For filenames ProximityData\\groups_03272013.txt and ProximityData\\groups_04112013.txt\n",
      "Number of same group occurences is 44\n",
      "\n",
      "\n",
      "For filenames ProximityData\\groups_03272013.txt and ProximityData\\groups_04122013.txt\n",
      "Number of same group occurences is 34\n",
      "\n",
      "\n",
      "For filenames ProximityData\\groups_03272013.txt and ProximityData\\groups_04132013.txt\n",
      "Number of same group occurences is 20\n",
      "\n",
      "\n",
      "For filenames ProximityData\\groups_03272013.txt and ProximityData\\groups_04142013.txt\n",
      "Number of same group occurences is 88\n",
      "\n",
      "\n",
      "For filenames ProximityData\\groups_03272013.txt and ProximityData\\groups_04152013.txt\n",
      "Number of same group occurences is 49\n",
      "\n",
      "\n",
      "For filenames ProximityData\\groups_03272013.txt and ProximityData\\groups_04162013.txt\n",
      "Number of same group occurences is 37\n",
      "\n",
      "\n",
      "For filenames ProximityData\\groups_03272013.txt and ProximityData\\groups_04172013.txt\n",
      "Number of same group occurences is 69\n",
      "\n",
      "\n",
      "For filenames ProximityData\\groups_03272013.txt and ProximityData\\groups_04182013.txt\n",
      "Number of same group occurences is 25\n",
      "\n",
      "\n",
      "For filenames ProximityData\\groups_03272013.txt and ProximityData\\groups_04192013.txt\n",
      "Number of same group occurences is 46\n",
      "\n",
      "\n",
      "For filenames ProximityData\\groups_03272013.txt and ProximityData\\groups_04202013.txt\n",
      "Number of same group occurences is 5\n",
      "\n",
      "\n",
      "For filenames ProximityData\\groups_03272013.txt and ProximityData\\groups_04212013.txt\n",
      "Number of same group occurences is 7\n",
      "\n",
      "\n",
      "For filenames ProximityData\\groups_03272013.txt and ProximityData\\groups_04222013.txt\n",
      "Number of same group occurences is 45\n",
      "\n",
      "\n",
      "For filenames ProximityData\\groups_03272013.txt and ProximityData\\groups_04232013.txt\n",
      "Number of same group occurences is 69\n",
      "\n",
      "\n",
      "For filenames ProximityData\\groups_03272013.txt and ProximityData\\groups_04242013.txt\n",
      "Number of same group occurences is 313\n",
      "\n",
      "\n",
      "For filenames ProximityData\\groups_03272013.txt and ProximityData\\groups_04252013.txt\n",
      "Number of same group occurences is 129\n",
      "\n",
      "\n",
      "For filenames ProximityData\\groups_03272013.txt and ProximityData\\groups_04262013.txt\n",
      "Number of same group occurences is 13\n",
      "\n",
      "\n",
      "For filenames ProximityData\\groups_03272013.txt and ProximityData\\groups_04272013.txt\n",
      "Number of same group occurences is 31\n",
      "\n",
      "\n",
      "For filenames ProximityData\\groups_03272013.txt and ProximityData\\groups_04282013.txt\n",
      "Number of same group occurences is 10\n",
      "\n",
      "\n",
      "For filenames ProximityData\\groups_03272013.txt and ProximityData\\groups_04292013.txt\n",
      "Number of same group occurences is 82\n",
      "\n",
      "\n",
      "For filenames ProximityData\\groups_03272013.txt and ProximityData\\groups_04302013.txt\n",
      "Number of same group occurences is 17\n",
      "\n",
      "\n",
      "For filenames ProximityData\\groups_03272013.txt and ProximityData\\groups_05012013.txt\n",
      "Number of same group occurences is 133\n",
      "\n",
      "\n",
      "For filenames ProximityData\\groups_03272013.txt and ProximityData\\groups_05022013.txt\n",
      "Number of same group occurences is 13\n",
      "\n",
      "\n",
      "For filenames ProximityData\\groups_03272013.txt and ProximityData\\groups_05032013.txt\n",
      "Number of same group occurences is 72\n",
      "\n",
      "\n",
      "For filenames ProximityData\\groups_03272013.txt and ProximityData\\groups_05042013.txt\n",
      "Number of same group occurences is 62\n",
      "\n",
      "\n",
      "For filenames ProximityData\\groups_03272013.txt and ProximityData\\groups_05052013.txt\n",
      "Number of same group occurences is 4\n",
      "\n",
      "\n",
      "For filenames ProximityData\\groups_03272013.txt and ProximityData\\groups_05062013.txt\n",
      "Number of same group occurences is 56\n",
      "\n",
      "\n",
      "For filenames ProximityData\\groups_03272013.txt and ProximityData\\groups_05072013.txt\n",
      "Number of same group occurences is 64\n",
      "\n",
      "\n",
      "For filenames ProximityData\\groups_03272013.txt and ProximityData\\groups_05082013.txt\n",
      "Number of same group occurences is 76\n",
      "\n",
      "\n",
      "For filenames ProximityData\\groups_03272013.txt and ProximityData\\groups_05092013.txt\n",
      "Number of same group occurences is 20\n",
      "\n",
      "\n",
      "For filenames ProximityData\\groups_03272013.txt and ProximityData\\groups_05102013.txt\n",
      "Number of same group occurences is 133\n",
      "\n",
      "\n",
      "For filenames ProximityData\\groups_03272013.txt and ProximityData\\groups_05112013.txt\n",
      "Number of same group occurences is 16\n",
      "\n",
      "\n",
      "For filenames ProximityData\\groups_03272013.txt and ProximityData\\groups_05122013.txt\n",
      "Number of same group occurences is 33\n",
      "\n",
      "\n",
      "For filenames ProximityData\\groups_03272013.txt and ProximityData\\groups_05132013.txt\n",
      "Number of same group occurences is 21\n",
      "\n",
      "\n",
      "For filenames ProximityData\\groups_03272013.txt and ProximityData\\groups_05142013.txt\n",
      "Number of same group occurences is 26\n",
      "\n",
      "\n",
      "For filenames ProximityData\\groups_03272013.txt and ProximityData\\groups_05152013.txt\n",
      "Number of same group occurences is 47\n",
      "\n",
      "\n",
      "For filenames ProximityData\\groups_03272013.txt and ProximityData\\groups_05162013.txt\n",
      "Number of same group occurences is 27\n",
      "\n",
      "\n",
      "For filenames ProximityData\\groups_03272013.txt and ProximityData\\groups_05172013.txt\n",
      "Number of same group occurences is 64\n",
      "\n",
      "\n",
      "For filenames ProximityData\\groups_03272013.txt and ProximityData\\groups_05182013.txt\n",
      "Number of same group occurences is 9\n",
      "\n",
      "\n",
      "For filenames ProximityData\\groups_03272013.txt and ProximityData\\groups_05192013.txt\n",
      "Number of same group occurences is 0\n",
      "\n",
      "\n",
      "For filenames ProximityData\\groups_03272013.txt and ProximityData\\groups_05202013.txt\n",
      "Number of same group occurences is 37\n",
      "\n",
      "\n",
      "For filenames ProximityData\\groups_03272013.txt and ProximityData\\groups_05212013.txt\n",
      "Number of same group occurences is 37\n",
      "\n",
      "\n",
      "For filenames ProximityData\\groups_03272013.txt and ProximityData\\groups_05222013.txt\n",
      "Number of same group occurences is 45\n",
      "\n",
      "\n",
      "For filenames ProximityData\\groups_03272013.txt and ProximityData\\groups_05232013.txt\n",
      "Number of same group occurences is 40\n",
      "\n",
      "\n",
      "For filenames ProximityData\\groups_03272013.txt and ProximityData\\groups_05242013.txt\n",
      "Number of same group occurences is 85\n",
      "\n",
      "\n",
      "For filenames ProximityData\\groups_03272013.txt and ProximityData\\groups_05252013.txt\n",
      "Number of same group occurences is 125\n",
      "\n",
      "\n",
      "For filenames ProximityData\\groups_03272013.txt and ProximityData\\groups_05262013.txt\n",
      "Number of same group occurences is 24\n",
      "\n",
      "\n",
      "For filenames ProximityData\\groups_03272013.txt and ProximityData\\groups_05272013.txt\n",
      "Number of same group occurences is 27\n",
      "\n",
      "\n",
      "For filenames ProximityData\\groups_03272013.txt and ProximityData\\groups_05282013.txt\n",
      "Number of same group occurences is 50\n",
      "\n",
      "\n",
      "For filenames ProximityData\\groups_03272013.txt and ProximityData\\groups_05292013.txt\n",
      "Number of same group occurences is 4\n",
      "\n",
      "\n",
      "For filenames ProximityData\\groups_03272013.txt and ProximityData\\groups_05302013.txt\n",
      "Number of same group occurences is 58\n",
      "\n",
      "\n",
      "For filenames ProximityData\\groups_03272013.txt and ProximityData\\groups_05312013.txt\n",
      "Number of same group occurences is 16\n",
      "\n",
      "\n",
      "For filenames ProximityData\\groups_03272013.txt and ProximityData\\groups_06012013.txt\n",
      "Number of same group occurences is 0\n",
      "\n",
      "\n",
      "For filenames ProximityData\\groups_03282013.txt and ProximityData\\groups_03272013.txt\n",
      "Number of same group occurences is 91\n",
      "\n",
      "\n",
      "For filenames ProximityData\\groups_03282013.txt and ProximityData\\groups_03292013.txt\n",
      "Number of same group occurences is 2972\n",
      "\n",
      "\n",
      "For filenames ProximityData\\groups_03282013.txt and ProximityData\\groups_03302013.txt\n",
      "Number of same group occurences is 2318\n",
      "\n",
      "\n",
      "For filenames ProximityData\\groups_03282013.txt and ProximityData\\groups_03312013.txt\n",
      "Number of same group occurences is 618\n",
      "\n",
      "\n",
      "For filenames ProximityData\\groups_03282013.txt and ProximityData\\groups_04012013.txt\n",
      "Number of same group occurences is 1872\n",
      "\n",
      "\n",
      "For filenames ProximityData\\groups_03282013.txt and ProximityData\\groups_04022013.txt\n",
      "Number of same group occurences is 1360\n",
      "\n",
      "\n",
      "For filenames ProximityData\\groups_03282013.txt and ProximityData\\groups_04032013.txt\n",
      "Number of same group occurences is 1526\n",
      "\n",
      "\n",
      "For filenames ProximityData\\groups_03282013.txt and ProximityData\\groups_04042013.txt\n",
      "Number of same group occurences is 2414\n",
      "\n",
      "\n",
      "For filenames ProximityData\\groups_03282013.txt and ProximityData\\groups_04052013.txt\n",
      "Number of same group occurences is 1825\n",
      "\n",
      "\n",
      "For filenames ProximityData\\groups_03282013.txt and ProximityData\\groups_04062013.txt\n",
      "Number of same group occurences is 533\n",
      "\n",
      "\n",
      "For filenames ProximityData\\groups_03282013.txt and ProximityData\\groups_04072013.txt\n",
      "Number of same group occurences is 270\n",
      "\n",
      "\n",
      "For filenames ProximityData\\groups_03282013.txt and ProximityData\\groups_04082013.txt\n",
      "Number of same group occurences is 636\n",
      "\n",
      "\n",
      "For filenames ProximityData\\groups_03282013.txt and ProximityData\\groups_04092013.txt\n",
      "Number of same group occurences is 1192\n",
      "\n",
      "\n",
      "For filenames ProximityData\\groups_03282013.txt and ProximityData\\groups_04102013.txt\n",
      "Number of same group occurences is 1122\n",
      "\n",
      "\n",
      "For filenames ProximityData\\groups_03282013.txt and ProximityData\\groups_04112013.txt\n",
      "Number of same group occurences is 1214\n",
      "\n",
      "\n",
      "For filenames ProximityData\\groups_03282013.txt and ProximityData\\groups_04122013.txt\n",
      "Number of same group occurences is 1274\n",
      "\n",
      "\n",
      "For filenames ProximityData\\groups_03282013.txt and ProximityData\\groups_04132013.txt\n",
      "Number of same group occurences is 1451\n",
      "\n",
      "\n",
      "For filenames ProximityData\\groups_03282013.txt and ProximityData\\groups_04142013.txt\n",
      "Number of same group occurences is 862\n",
      "\n",
      "\n",
      "For filenames ProximityData\\groups_03282013.txt and ProximityData\\groups_04152013.txt\n",
      "Number of same group occurences is 1140\n",
      "\n",
      "\n",
      "For filenames ProximityData\\groups_03282013.txt and ProximityData\\groups_04162013.txt\n",
      "Number of same group occurences is 1228\n",
      "\n",
      "\n",
      "For filenames ProximityData\\groups_03282013.txt and ProximityData\\groups_04172013.txt\n",
      "Number of same group occurences is 1086\n",
      "\n",
      "\n",
      "For filenames ProximityData\\groups_03282013.txt and ProximityData\\groups_04182013.txt\n",
      "Number of same group occurences is 1005\n",
      "\n",
      "\n",
      "For filenames ProximityData\\groups_03282013.txt and ProximityData\\groups_04192013.txt\n",
      "Number of same group occurences is 824\n",
      "\n",
      "\n",
      "For filenames ProximityData\\groups_03282013.txt and ProximityData\\groups_04202013.txt\n",
      "Number of same group occurences is 312\n",
      "\n",
      "\n",
      "For filenames ProximityData\\groups_03282013.txt and ProximityData\\groups_04212013.txt\n",
      "Number of same group occurences is 604\n",
      "\n",
      "\n",
      "For filenames ProximityData\\groups_03282013.txt and ProximityData\\groups_04222013.txt\n",
      "Number of same group occurences is 888\n",
      "\n",
      "\n",
      "For filenames ProximityData\\groups_03282013.txt and ProximityData\\groups_04232013.txt\n",
      "Number of same group occurences is 1335\n",
      "\n",
      "\n",
      "For filenames ProximityData\\groups_03282013.txt and ProximityData\\groups_04242013.txt\n",
      "Number of same group occurences is 1537\n",
      "\n",
      "\n",
      "For filenames ProximityData\\groups_03282013.txt and ProximityData\\groups_04252013.txt\n",
      "Number of same group occurences is 554\n",
      "\n",
      "\n",
      "For filenames ProximityData\\groups_03282013.txt and ProximityData\\groups_04262013.txt\n",
      "Number of same group occurences is 2129\n",
      "\n",
      "\n",
      "For filenames ProximityData\\groups_03282013.txt and ProximityData\\groups_04272013.txt\n",
      "Number of same group occurences is 1678\n",
      "\n",
      "\n",
      "For filenames ProximityData\\groups_03282013.txt and ProximityData\\groups_04282013.txt\n",
      "Number of same group occurences is 1202\n",
      "\n",
      "\n",
      "For filenames ProximityData\\groups_03282013.txt and ProximityData\\groups_04292013.txt\n",
      "Number of same group occurences is 993\n",
      "\n",
      "\n",
      "For filenames ProximityData\\groups_03282013.txt and ProximityData\\groups_04302013.txt\n",
      "Number of same group occurences is 848\n",
      "\n",
      "\n",
      "For filenames ProximityData\\groups_03282013.txt and ProximityData\\groups_05012013.txt\n",
      "Number of same group occurences is 970\n",
      "\n",
      "\n",
      "For filenames ProximityData\\groups_03282013.txt and ProximityData\\groups_05022013.txt\n",
      "Number of same group occurences is 1113\n",
      "\n",
      "\n",
      "For filenames ProximityData\\groups_03282013.txt and ProximityData\\groups_05032013.txt\n",
      "Number of same group occurences is 397\n",
      "\n",
      "\n",
      "For filenames ProximityData\\groups_03282013.txt and ProximityData\\groups_05042013.txt\n",
      "Number of same group occurences is 991\n",
      "\n",
      "\n",
      "For filenames ProximityData\\groups_03282013.txt and ProximityData\\groups_05052013.txt\n",
      "Number of same group occurences is 1296\n",
      "\n",
      "\n",
      "For filenames ProximityData\\groups_03282013.txt and ProximityData\\groups_05062013.txt\n",
      "Number of same group occurences is 438\n",
      "\n",
      "\n",
      "For filenames ProximityData\\groups_03282013.txt and ProximityData\\groups_05072013.txt\n",
      "Number of same group occurences is 696\n",
      "\n",
      "\n",
      "For filenames ProximityData\\groups_03282013.txt and ProximityData\\groups_05082013.txt\n",
      "Number of same group occurences is 1224\n",
      "\n",
      "\n",
      "For filenames ProximityData\\groups_03282013.txt and ProximityData\\groups_05092013.txt\n",
      "Number of same group occurences is 293\n",
      "\n",
      "\n",
      "For filenames ProximityData\\groups_03282013.txt and ProximityData\\groups_05102013.txt\n",
      "Number of same group occurences is 1106\n",
      "\n",
      "\n",
      "For filenames ProximityData\\groups_03282013.txt and ProximityData\\groups_05112013.txt\n",
      "Number of same group occurences is 666\n",
      "\n",
      "\n",
      "For filenames ProximityData\\groups_03282013.txt and ProximityData\\groups_05122013.txt\n",
      "Number of same group occurences is 341\n",
      "\n",
      "\n",
      "For filenames ProximityData\\groups_03282013.txt and ProximityData\\groups_05132013.txt\n",
      "Number of same group occurences is 360\n",
      "\n",
      "\n",
      "For filenames ProximityData\\groups_03282013.txt and ProximityData\\groups_05142013.txt\n",
      "Number of same group occurences is 251\n",
      "\n",
      "\n",
      "For filenames ProximityData\\groups_03282013.txt and ProximityData\\groups_05152013.txt\n",
      "Number of same group occurences is 424\n",
      "\n",
      "\n",
      "For filenames ProximityData\\groups_03282013.txt and ProximityData\\groups_05162013.txt\n",
      "Number of same group occurences is 1117\n",
      "\n",
      "\n",
      "For filenames ProximityData\\groups_03282013.txt and ProximityData\\groups_05172013.txt\n",
      "Number of same group occurences is 420\n",
      "\n",
      "\n",
      "For filenames ProximityData\\groups_03282013.txt and ProximityData\\groups_05182013.txt\n",
      "Number of same group occurences is 410\n",
      "\n",
      "\n",
      "For filenames ProximityData\\groups_03282013.txt and ProximityData\\groups_05192013.txt\n",
      "Number of same group occurences is 570\n",
      "\n",
      "\n",
      "For filenames ProximityData\\groups_03282013.txt and ProximityData\\groups_05202013.txt\n",
      "Number of same group occurences is 153\n",
      "\n",
      "\n",
      "For filenames ProximityData\\groups_03282013.txt and ProximityData\\groups_05212013.txt\n",
      "Number of same group occurences is 270\n",
      "\n",
      "\n",
      "For filenames ProximityData\\groups_03282013.txt and ProximityData\\groups_05222013.txt\n",
      "Number of same group occurences is 382\n",
      "\n",
      "\n",
      "For filenames ProximityData\\groups_03282013.txt and ProximityData\\groups_05232013.txt\n",
      "Number of same group occurences is 357\n",
      "\n",
      "\n",
      "For filenames ProximityData\\groups_03282013.txt and ProximityData\\groups_05242013.txt\n",
      "Number of same group occurences is 393\n",
      "\n",
      "\n",
      "For filenames ProximityData\\groups_03282013.txt and ProximityData\\groups_05252013.txt\n",
      "Number of same group occurences is 690\n",
      "\n",
      "\n",
      "For filenames ProximityData\\groups_03282013.txt and ProximityData\\groups_05262013.txt\n",
      "Number of same group occurences is 559\n",
      "\n",
      "\n",
      "For filenames ProximityData\\groups_03282013.txt and ProximityData\\groups_05272013.txt\n",
      "Number of same group occurences is 40\n",
      "\n",
      "\n",
      "For filenames ProximityData\\groups_03282013.txt and ProximityData\\groups_05282013.txt\n",
      "Number of same group occurences is 246\n",
      "\n",
      "\n",
      "For filenames ProximityData\\groups_03282013.txt and ProximityData\\groups_05292013.txt\n",
      "Number of same group occurences is 78\n",
      "\n",
      "\n",
      "For filenames ProximityData\\groups_03282013.txt and ProximityData\\groups_05302013.txt\n",
      "Number of same group occurences is 117\n",
      "\n",
      "\n",
      "For filenames ProximityData\\groups_03282013.txt and ProximityData\\groups_05312013.txt\n",
      "Number of same group occurences is 73\n",
      "\n",
      "\n",
      "For filenames ProximityData\\groups_03282013.txt and ProximityData\\groups_06012013.txt\n",
      "Number of same group occurences is 31\n",
      "\n",
      "\n",
      "For filenames ProximityData\\groups_03292013.txt and ProximityData\\groups_03272013.txt\n",
      "Number of same group occurences is 142\n",
      "\n",
      "\n",
      "For filenames ProximityData\\groups_03292013.txt and ProximityData\\groups_03282013.txt\n",
      "Number of same group occurences is 2972\n",
      "\n",
      "\n",
      "For filenames ProximityData\\groups_03292013.txt and ProximityData\\groups_03302013.txt\n",
      "Number of same group occurences is 2561\n",
      "\n",
      "\n",
      "For filenames ProximityData\\groups_03292013.txt and ProximityData\\groups_03312013.txt\n",
      "Number of same group occurences is 709\n",
      "\n",
      "\n",
      "For filenames ProximityData\\groups_03292013.txt and ProximityData\\groups_04012013.txt\n",
      "Number of same group occurences is 2120\n",
      "\n",
      "\n",
      "For filenames ProximityData\\groups_03292013.txt and ProximityData\\groups_04022013.txt\n",
      "Number of same group occurences is 2260\n",
      "\n",
      "\n"
     ]
    },
    {
     "ename": "KeyboardInterrupt",
     "evalue": "",
     "output_type": "error",
     "traceback": [
      "\u001b[1;31m---------------------------------------------------------------------------\u001b[0m",
      "\u001b[1;31mKeyboardInterrupt\u001b[0m                         Traceback (most recent call last)",
      "\u001b[1;32m<ipython-input-1-d5bd36ff474b>\u001b[0m in \u001b[0;36m<module>\u001b[1;34m()\u001b[0m\n\u001b[0;32m     92\u001b[0m             \u001b[1;32mfor\u001b[0m \u001b[0mgt\u001b[0m \u001b[1;32min\u001b[0m \u001b[0mrange\u001b[0m\u001b[1;33m(\u001b[0m\u001b[0mlen\u001b[0m\u001b[1;33m(\u001b[0m\u001b[0munique_group\u001b[0m\u001b[1;33m)\u001b[0m\u001b[1;33m)\u001b[0m\u001b[1;33m:\u001b[0m\u001b[1;33m\u001b[0m\u001b[0m\n\u001b[0;32m     93\u001b[0m                 \u001b[1;32mfor\u001b[0m \u001b[0mbt\u001b[0m \u001b[1;32min\u001b[0m \u001b[0mrange\u001b[0m\u001b[1;33m(\u001b[0m\u001b[0mlen\u001b[0m\u001b[1;33m(\u001b[0m\u001b[0munique_group2\u001b[0m\u001b[1;33m)\u001b[0m\u001b[1;33m)\u001b[0m\u001b[1;33m:\u001b[0m\u001b[1;33m\u001b[0m\u001b[0m\n\u001b[1;32m---> 94\u001b[1;33m                     \u001b[1;32mif\u001b[0m\u001b[1;33m(\u001b[0m\u001b[0munique_group\u001b[0m\u001b[1;33m[\u001b[0m\u001b[0mgt\u001b[0m\u001b[1;33m]\u001b[0m \u001b[1;33m==\u001b[0m \u001b[0munique_group2\u001b[0m\u001b[1;33m[\u001b[0m\u001b[0mbt\u001b[0m\u001b[1;33m]\u001b[0m\u001b[1;33m)\u001b[0m\u001b[1;33m:\u001b[0m\u001b[1;33m\u001b[0m\u001b[0m\n\u001b[0m\u001b[0;32m     95\u001b[0m                         \u001b[0mcommon\u001b[0m\u001b[1;33m.\u001b[0m\u001b[0mappend\u001b[0m\u001b[1;33m(\u001b[0m\u001b[0munique_group\u001b[0m\u001b[1;33m[\u001b[0m\u001b[0mgt\u001b[0m\u001b[1;33m]\u001b[0m\u001b[1;33m)\u001b[0m\u001b[1;33m\u001b[0m\u001b[0m\n\u001b[0;32m     96\u001b[0m \u001b[1;33m\u001b[0m\u001b[0m\n",
      "\u001b[1;31mKeyboardInterrupt\u001b[0m: "
     ]
    }
   ],
   "source": [
    "\n",
    "import os\n",
    "from glob import glob\n",
    "\n",
    "from bokeh.plotting import figure, output_file, show, ColumnDataSource\n",
    "from bokeh.models import HoverTool\n",
    "import matplotlib.pyplot as plt\n",
    "#import matplotlib.patches as mpatches\n",
    "#from matplotlib.font_manager import FontProperties\n",
    "\n",
    "\n",
    "\n",
    "filename = []\n",
    "files_list = glob(os.path.join('ProximityData', '*.txt'))\n",
    "for a_file in sorted(files_list):\n",
    "    #print(a_file)\n",
    "    filename.append(a_file)\n",
    "\n",
    "for nk in range(len(filename)):\n",
    "    for rt in range(len(filename)):\n",
    "        if(filename[nk] != filename[rt]):\n",
    "            \n",
    "            \n",
    "    \n",
    "            f = open(filename[nk],'r')\n",
    "            lines1 = []\n",
    "            lines1.append(f.readlines())\n",
    "            textlines1 = []\n",
    "            for i in range(len(lines1[0])): \n",
    "                textlines1.append( lines1[0][i].split(\"|\"))\n",
    "                \n",
    "            \n",
    "            \n",
    "            time = []\n",
    "            for i in range(len(textlines1)):\n",
    "                time.append((int(textlines1[i][0])))    \n",
    "            \n",
    "            group = [[] for h in range(len(time))]\n",
    "            for i in range(len(textlines1)):\n",
    "                for p in range(1,len(textlines1[i])-1):\n",
    "                    group[i].append((textlines1[i][p]))\n",
    "                    \n",
    "                    \n",
    "            \n",
    "            gf = open(filename[rt],'r')\n",
    "            lines2 = []\n",
    "            lines2.append(gf.readlines())\n",
    "            textlines2 = []\n",
    "            for i in range(len(lines2[0])): \n",
    "                textlines2.append( lines2[0][i].split(\"|\"))\n",
    "                \n",
    "            \n",
    "            \n",
    "            time2 = []\n",
    "            for i in range(len(textlines2)):\n",
    "                time2.append((int(textlines2[i][0])))    \n",
    "            \n",
    "            group2 = [[] for h in range(len(time2))]\n",
    "            for i in range(len(textlines2)):\n",
    "                for p in range(1,len(textlines2[i])-1):\n",
    "                    group2[i].append((textlines2[i][p]))\n",
    "                    \n",
    "                    \n",
    "                    \n",
    "            gr = group[0]\n",
    "            for ip in range(1,len(group)):\n",
    "                gr += group[ip]\n",
    "                \n",
    "            unique_group = list(set(gr))\n",
    "            \n",
    "            gr = group2[0]\n",
    "            for ip in range(1,len(group2)):\n",
    "                gr += group2[ip]\n",
    "                \n",
    "            unique_group2 = list(set(gr))\n",
    "            \n",
    "            \n",
    "            \n",
    "            group = [[] for h in range(len(time))]\n",
    "            for i in range(len(textlines1)):\n",
    "                for p in range(1,len(textlines1[i])-1):\n",
    "                    group[i].append((textlines1[i][p]))\n",
    "            \n",
    "            \n",
    "            \n",
    "            group2 = [[] for h in range(len(time2))]\n",
    "            for i in range(len(textlines2)):\n",
    "                for p in range(1,len(textlines2[i])-1):\n",
    "                    group2[i].append((textlines2[i][p]))\n",
    "                    \n",
    "            common = []\n",
    "            for gt in range(len(unique_group)):\n",
    "                for bt in range(len(unique_group2)):\n",
    "                    if(unique_group[gt] == unique_group2[bt]):\n",
    "                        common.append(unique_group[gt])\n",
    "                        \n",
    "                        \n",
    "            timeof1 = []\n",
    "            timeof2 = []\n",
    "            \n",
    "            \n",
    "            for gh in range(len(group)):\n",
    "                for d in range(len(common)):\n",
    "                    if(common[d] in group[gh]):\n",
    "                        timeof1.append(time[gh])\n",
    "                        \n",
    "            for gh in range(len(group2)):\n",
    "                for d in range(len(common)):\n",
    "                    if(common[d] in group2[gh]):\n",
    "                        timeof2.append(time2[gh])\n",
    "                        \n",
    "            bn = 0\n",
    "            for k in range(len(timeof1)):\n",
    "                for p in range(len(timeof2)):\n",
    "                    if(timeof1[k] == timeof2[p]):\n",
    "                        #print(timeof1[k])\n",
    "                        bn +=1\n",
    "            print(\"For filenames {} and {}\".format(filename[nk],filename[rt]))            \n",
    "            print(\"Number of same group occurences is {}\".format(bn))\n",
    "            print(\"\\n\")\n",
    "            \n",
    "            \n",
    "            \n",
    "            \n",
    "            \n",
    "            f.close()\n",
    "            gf.close()\n",
    "\n",
    "\n",
    "#plt.show()"
   ]
  },
  {
   "cell_type": "code",
   "execution_count": null,
   "metadata": {
    "collapsed": true
   },
   "outputs": [],
   "source": []
  },
  {
   "cell_type": "code",
   "execution_count": null,
   "metadata": {
    "collapsed": true
   },
   "outputs": [],
   "source": []
  },
  {
   "cell_type": "code",
   "execution_count": null,
   "metadata": {
    "collapsed": true
   },
   "outputs": [],
   "source": []
  },
  {
   "cell_type": "code",
   "execution_count": null,
   "metadata": {
    "collapsed": true
   },
   "outputs": [],
   "source": []
  }
 ],
 "metadata": {
  "anaconda-cloud": {},
  "kernelspec": {
   "display_name": "Python [Root]",
   "language": "python",
   "name": "Python [Root]"
  },
  "language_info": {
   "codemirror_mode": {
    "name": "ipython",
    "version": 2
   },
   "file_extension": ".py",
   "mimetype": "text/x-python",
   "name": "python",
   "nbconvert_exporter": "python",
   "pygments_lexer": "ipython2",
   "version": "2.7.12"
  }
 },
 "nbformat": 4,
 "nbformat_minor": 2
}
